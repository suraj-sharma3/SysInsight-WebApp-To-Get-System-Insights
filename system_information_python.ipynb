{
 "cells": [
  {
   "cell_type": "code",
   "execution_count": 1,
   "metadata": {},
   "outputs": [
    {
     "name": "stdout",
     "output_type": "stream",
     "text": [
      "Requirement already satisfied: psutil in c:\\users\\omolp094\\appdata\\local\\programs\\python\\python311\\lib\\site-packages (5.9.8)\n"
     ]
    },
    {
     "name": "stderr",
     "output_type": "stream",
     "text": [
      "DEPRECATION: Loading egg at c:\\users\\omolp094\\appdata\\local\\programs\\python\\python311\\lib\\site-packages\\pybluez-0.30-py3.11-win-amd64.egg is deprecated. pip 24.3 will enforce this behaviour change. A possible replacement is to use pip for package installation. Discussion can be found at https://github.com/pypa/pip/issues/12330\n",
      "DEPRECATION: Loading egg at c:\\users\\omolp094\\appdata\\local\\programs\\python\\python311\\lib\\site-packages\\sleeppy-0.2.21-py3.11.egg is deprecated. pip 24.3 will enforce this behaviour change. A possible replacement is to use pip for package installation. Discussion can be found at https://github.com/pypa/pip/issues/12330\n",
      "\n",
      "[notice] A new release of pip is available: 24.1.2 -> 24.3.1\n",
      "[notice] To update, run: python.exe -m pip install --upgrade pip\n"
     ]
    }
   ],
   "source": [
    "!pip install psutil"
   ]
  },
  {
   "cell_type": "code",
   "execution_count": 2,
   "metadata": {},
   "outputs": [
    {
     "name": "stdout",
     "output_type": "stream",
     "text": [
      "Requirement already satisfied: py-cpuinfo in c:\\users\\omolp094\\appdata\\local\\programs\\python\\python311\\lib\\site-packages (9.0.0)\n"
     ]
    },
    {
     "name": "stderr",
     "output_type": "stream",
     "text": [
      "DEPRECATION: Loading egg at c:\\users\\omolp094\\appdata\\local\\programs\\python\\python311\\lib\\site-packages\\pybluez-0.30-py3.11-win-amd64.egg is deprecated. pip 24.3 will enforce this behaviour change. A possible replacement is to use pip for package installation. Discussion can be found at https://github.com/pypa/pip/issues/12330\n",
      "DEPRECATION: Loading egg at c:\\users\\omolp094\\appdata\\local\\programs\\python\\python311\\lib\\site-packages\\sleeppy-0.2.21-py3.11.egg is deprecated. pip 24.3 will enforce this behaviour change. A possible replacement is to use pip for package installation. Discussion can be found at https://github.com/pypa/pip/issues/12330\n",
      "\n",
      "[notice] A new release of pip is available: 24.1.2 -> 24.3.1\n",
      "[notice] To update, run: python.exe -m pip install --upgrade pip\n"
     ]
    }
   ],
   "source": [
    "!pip install py-cpuinfo"
   ]
  },
  {
   "cell_type": "code",
   "execution_count": 3,
   "metadata": {},
   "outputs": [
    {
     "name": "stdout",
     "output_type": "stream",
     "text": [
      "Requirement already satisfied: wmi in c:\\users\\omolp094\\appdata\\local\\programs\\python\\python311\\lib\\site-packages (1.5.1)\n",
      "Requirement already satisfied: pywin32 in c:\\users\\omolp094\\appdata\\roaming\\python\\python311\\site-packages (from wmi) (306)\n"
     ]
    },
    {
     "name": "stderr",
     "output_type": "stream",
     "text": [
      "DEPRECATION: Loading egg at c:\\users\\omolp094\\appdata\\local\\programs\\python\\python311\\lib\\site-packages\\pybluez-0.30-py3.11-win-amd64.egg is deprecated. pip 24.3 will enforce this behaviour change. A possible replacement is to use pip for package installation. Discussion can be found at https://github.com/pypa/pip/issues/12330\n",
      "DEPRECATION: Loading egg at c:\\users\\omolp094\\appdata\\local\\programs\\python\\python311\\lib\\site-packages\\sleeppy-0.2.21-py3.11.egg is deprecated. pip 24.3 will enforce this behaviour change. A possible replacement is to use pip for package installation. Discussion can be found at https://github.com/pypa/pip/issues/12330\n",
      "\n",
      "[notice] A new release of pip is available: 24.1.2 -> 24.3.1\n",
      "[notice] To update, run: python.exe -m pip install --upgrade pip\n"
     ]
    }
   ],
   "source": [
    "!pip install wmi"
   ]
  },
  {
   "cell_type": "code",
   "execution_count": 4,
   "metadata": {},
   "outputs": [],
   "source": [
    "import platform\n",
    "import psutil\n",
    "import cpuinfo\n",
    "import wmi"
   ]
  },
  {
   "cell_type": "code",
   "execution_count": 5,
   "metadata": {},
   "outputs": [
    {
     "name": "stdout",
     "output_type": "stream",
     "text": [
      "Architecture : ('64bit', 'WindowsPE')\n"
     ]
    }
   ],
   "source": [
    "print(f\"Architecture : {platform.architecture()}\")"
   ]
  },
  {
   "cell_type": "code",
   "execution_count": 6,
   "metadata": {},
   "outputs": [
    {
     "name": "stdout",
     "output_type": "stream",
     "text": [
      "Name of System on Network : LAPTOP-2FKFHUU1\n"
     ]
    }
   ],
   "source": [
    "print(f\"Name of System on Network : {platform.node()}\")"
   ]
  },
  {
   "cell_type": "code",
   "execution_count": 7,
   "metadata": {},
   "outputs": [
    {
     "name": "stdout",
     "output_type": "stream",
     "text": [
      "Operating System : Windows-10-10.0.22631-SP0\n"
     ]
    }
   ],
   "source": [
    "print(f\"Operating System : {platform.platform()}\")"
   ]
  },
  {
   "cell_type": "code",
   "execution_count": 8,
   "metadata": {},
   "outputs": [
    {
     "name": "stdout",
     "output_type": "stream",
     "text": [
      "Processor : Intel64 Family 6 Model 154 Stepping 4, GenuineIntel\n"
     ]
    }
   ],
   "source": [
    "print(f\"Processor : {platform.processor()}\")"
   ]
  },
  {
   "cell_type": "code",
   "execution_count": 9,
   "metadata": {},
   "outputs": [
    {
     "name": "stdout",
     "output_type": "stream",
     "text": [
      "{'python_version': '3.11.3.final.0 (64 bit)', 'cpuinfo_version': [9, 0, 0], 'cpuinfo_version_string': '9.0.0', 'arch': 'X86_64', 'bits': 64, 'count': 12, 'arch_string_raw': 'AMD64', 'vendor_id_raw': 'GenuineIntel', 'brand_raw': '12th Gen Intel(R) Core(TM) i5-1235U', 'hz_actual_friendly': '1.3000 GHz', 'hz_actual': [1300000000, 0], 'l2_cache_size': 6815744, 'stepping': 4, 'model': 154, 'family': 6, 'l3_cache_size': 12582912, 'hz_advertised_friendly': '2.4960 GHz', 'hz_advertised': [2496000000, 0], 'flags': ['3dnow', '3dnowprefetch', 'abm', 'acpi', 'adx', 'aes', 'apic', 'avx', 'avx2', 'bmi1', 'bmi2', 'clflush', 'clflushopt', 'clwb', 'cmov', 'cx16', 'cx8', 'de', 'dts', 'erms', 'est', 'f16c', 'fma', 'fpu', 'fxsr', 'gfni', 'ht', 'hypervisor', 'ia64', 'intel_pt', 'invpcid', 'lahf_lm', 'mca', 'mce', 'mmx', 'monitor', 'movbe', 'msr', 'mtrr', 'osxsave', 'pae', 'pat', 'pbe', 'pcid', 'pclmulqdq', 'pdcm', 'pge', 'pni', 'popcnt', 'pse', 'pse36', 'rdpid', 'rdrnd', 'rdseed', 'sep', 'serial', 'sha', 'smap', 'smep', 'ss', 'sse', 'sse2', 'sse4_1', 'sse4_2', 'ssse3', 'tm', 'tm2', 'tsc', 'tscdeadline', 'umip', 'vaes', 'vme', 'vpclmulqdq', 'x2apic', 'xsave', 'xtpr'], 'l2_cache_line_size': 1280, 'l2_cache_associativity': 7}\n"
     ]
    }
   ],
   "source": [
    "my_cpu_info = cpuinfo.get_cpu_info()\n",
    "print(my_cpu_info)"
   ]
  },
  {
   "cell_type": "code",
   "execution_count": 12,
   "metadata": {},
   "outputs": [
    {
     "name": "stdout",
     "output_type": "stream",
     "text": [
      "CPU Name : 12th Gen Intel(R) Core(TM) i5-1235U\n"
     ]
    }
   ],
   "source": [
    "print(f\"CPU Name : {my_cpu_info['brand_raw']}\")"
   ]
  },
  {
   "cell_type": "code",
   "execution_count": 14,
   "metadata": {},
   "outputs": [
    {
     "name": "stdout",
     "output_type": "stream",
     "text": [
      "Clock Actual : 1.3000 GHz\n"
     ]
    }
   ],
   "source": [
    "print(f\"Clock Actual : {my_cpu_info['hz_actual_friendly']}\")"
   ]
  },
  {
   "cell_type": "code",
   "execution_count": 15,
   "metadata": {},
   "outputs": [
    {
     "name": "stdout",
     "output_type": "stream",
     "text": [
      "Clock Actual : 2.4960 GHz\n"
     ]
    }
   ],
   "source": [
    "print(f\"Clock Actual : {my_cpu_info['hz_advertised_friendly']}\")"
   ]
  },
  {
   "cell_type": "code",
   "execution_count": 20,
   "metadata": {},
   "outputs": [
    {
     "name": "stdout",
     "output_type": "stream",
     "text": [
      "8245334016\n"
     ]
    }
   ],
   "source": [
    "print(psutil.virtual_memory().total) # In Bytes"
   ]
  },
  {
   "cell_type": "code",
   "execution_count": 19,
   "metadata": {},
   "outputs": [
    {
     "name": "stdout",
     "output_type": "stream",
     "text": [
      "7.679065704345703\n"
     ]
    }
   ],
   "source": [
    "print(psutil.virtual_memory().total / 1024**3) # In Giga Bytes"
   ]
  },
  {
   "cell_type": "code",
   "execution_count": 21,
   "metadata": {},
   "outputs": [],
   "source": [
    "pc = wmi.WMI()\n",
    "\n",
    "os_info = pc.Win32_OperatingSystem()[0]"
   ]
  },
  {
   "cell_type": "code",
   "execution_count": 22,
   "metadata": {},
   "outputs": [
    {
     "name": "stdout",
     "output_type": "stream",
     "text": [
      "\n",
      "instance of Win32_OperatingSystem\n",
      "{\n",
      "\tBootDevice = \"\\\\Device\\\\HarddiskVolume1\";\n",
      "\tBuildNumber = \"22631\";\n",
      "\tBuildType = \"Multiprocessor Free\";\n",
      "\tCaption = \"Microsoft Windows 11 Home Single Language\";\n",
      "\tCodeSet = \"1252\";\n",
      "\tCountryCode = \"1\";\n",
      "\tCreationClassName = \"Win32_OperatingSystem\";\n",
      "\tCSCreationClassName = \"Win32_ComputerSystem\";\n",
      "\tCSName = \"LAPTOP-2FKFHUU1\";\n",
      "\tCurrentTimeZone = 330;\n",
      "\tDataExecutionPrevention_32BitApplications = TRUE;\n",
      "\tDataExecutionPrevention_Available = TRUE;\n",
      "\tDataExecutionPrevention_Drivers = TRUE;\n",
      "\tDataExecutionPrevention_SupportPolicy = 2;\n",
      "\tDebug = FALSE;\n",
      "\tDescription = \"\";\n",
      "\tDistributed = FALSE;\n",
      "\tEncryptionLevel = 256;\n",
      "\tForegroundApplicationBoost = 2;\n",
      "\tFreePhysicalMemory = \"82648\";\n",
      "\tFreeSpaceInPagingFiles = \"15200600\";\n",
      "\tFreeVirtualMemory = \"971668\";\n",
      "\tInstallDate = \"20230526180156.000000+330\";\n",
      "\tLastBootUpTime = \"20241209101854.473719+330\";\n",
      "\tLocalDateTime = \"20241211180447.842000+330\";\n",
      "\tLocale = \"0409\";\n",
      "\tManufacturer = \"Microsoft Corporation\";\n",
      "\tMaxNumberOfProcesses = 4294967295;\n",
      "\tMaxProcessMemorySize = \"137438953344\";\n",
      "\tMUILanguages = {\"en-US\"};\n",
      "\tName = \"Microsoft Windows 11 Home Single Language|C:\\\\windows|\\\\Device\\\\Harddisk0\\\\Partition3\";\n",
      "\tNumberOfProcesses = 377;\n",
      "\tNumberOfUsers = 1;\n",
      "\tOperatingSystemSKU = 100;\n",
      "\tOrganization = \"HP\";\n",
      "\tOSArchitecture = \"64-bit\";\n",
      "\tOSLanguage = 1033;\n",
      "\tOSProductSuite = 768;\n",
      "\tOSType = 18;\n",
      "\tPortableOperatingSystem = FALSE;\n",
      "\tPrimary = TRUE;\n",
      "\tProductType = 1;\n",
      "\tRegisteredUser = \"Admin\";\n",
      "\tSerialNumber = \"00356-24640-36461-AAOEM\";\n",
      "\tServicePackMajorVersion = 0;\n",
      "\tServicePackMinorVersion = 0;\n",
      "\tSizeStoredInPagingFiles = \"24444928\";\n",
      "\tStatus = \"OK\";\n",
      "\tSuiteMask = 784;\n",
      "\tSystemDevice = \"\\\\Device\\\\HarddiskVolume3\";\n",
      "\tSystemDirectory = \"C:\\\\windows\\\\system32\";\n",
      "\tSystemDrive = \"C:\";\n",
      "\tTotalVirtualMemorySize = \"32497012\";\n",
      "\tTotalVisibleMemorySize = \"8052084\";\n",
      "\tVersion = \"10.0.22631\";\n",
      "\tWindowsDirectory = \"C:\\\\windows\";\n",
      "};\n",
      "\n"
     ]
    }
   ],
   "source": [
    "print(os_info)"
   ]
  },
  {
   "cell_type": "code",
   "execution_count": 24,
   "metadata": {},
   "outputs": [],
   "source": [
    "processor_info = pc.Win32_Processor()[0]"
   ]
  },
  {
   "cell_type": "code",
   "execution_count": 25,
   "metadata": {},
   "outputs": [
    {
     "name": "stdout",
     "output_type": "stream",
     "text": [
      "\n",
      "instance of Win32_Processor\n",
      "{\n",
      "\tAddressWidth = 64;\n",
      "\tArchitecture = 9;\n",
      "\tAssetTag = \"To Be Filled By O.E.M.\";\n",
      "\tAvailability = 3;\n",
      "\tCaption = \"Intel64 Family 6 Model 154 Stepping 4\";\n",
      "\tCharacteristics = 252;\n",
      "\tCpuStatus = 1;\n",
      "\tCreationClassName = \"Win32_Processor\";\n",
      "\tCurrentClockSpeed = 1300;\n",
      "\tCurrentVoltage = 12;\n",
      "\tDataWidth = 64;\n",
      "\tDescription = \"Intel64 Family 6 Model 154 Stepping 4\";\n",
      "\tDeviceID = \"CPU0\";\n",
      "\tExtClock = 100;\n",
      "\tFamily = 205;\n",
      "\tL2CacheSize = 6656;\n",
      "\tL3CacheSize = 12288;\n",
      "\tL3CacheSpeed = 0;\n",
      "\tLevel = 6;\n",
      "\tLoadPercentage = 1;\n",
      "\tManufacturer = \"GenuineIntel\";\n",
      "\tMaxClockSpeed = 1300;\n",
      "\tName = \"12th Gen Intel(R) Core(TM) i5-1235U\";\n",
      "\tNumberOfCores = 10;\n",
      "\tNumberOfEnabledCore = 10;\n",
      "\tNumberOfLogicalProcessors = 12;\n",
      "\tPartNumber = \"To Be Filled By O.E.M.\";\n",
      "\tPowerManagementSupported = FALSE;\n",
      "\tProcessorId = \"BFEBFBFF000906A4\";\n",
      "\tProcessorType = 3;\n",
      "\tRole = \"CPU\";\n",
      "\tSecondLevelAddressTranslationExtensions = FALSE;\n",
      "\tSerialNumber = \"To Be Filled By O.E.M.\";\n",
      "\tSocketDesignation = \"U3E1\";\n",
      "\tStatus = \"OK\";\n",
      "\tStatusInfo = 3;\n",
      "\tSystemCreationClassName = \"Win32_ComputerSystem\";\n",
      "\tSystemName = \"LAPTOP-2FKFHUU1\";\n",
      "\tThreadCount = 12;\n",
      "\tUpgradeMethod = 1;\n",
      "\tVersion = \"\";\n",
      "\tVirtualizationFirmwareEnabled = FALSE;\n",
      "\tVMMonitorModeExtensions = FALSE;\n",
      "};\n",
      "\n"
     ]
    }
   ],
   "source": [
    "print(processor_info)"
   ]
  },
  {
   "cell_type": "code",
   "execution_count": 26,
   "metadata": {},
   "outputs": [],
   "source": [
    "gpu_info = pc.Win32_VideoController()[0]"
   ]
  },
  {
   "cell_type": "code",
   "execution_count": 27,
   "metadata": {},
   "outputs": [
    {
     "name": "stdout",
     "output_type": "stream",
     "text": [
      "\n",
      "instance of Win32_VideoController\n",
      "{\n",
      "\tAdapterCompatibility = \"Intel Corporation\";\n",
      "\tAdapterDACType = \"Internal\";\n",
      "\tAdapterRAM = 134217728;\n",
      "\tAvailability = 3;\n",
      "\tCaption = \"Intel(R) Iris(R) Xe Graphics\";\n",
      "\tConfigManagerErrorCode = 0;\n",
      "\tConfigManagerUserConfig = FALSE;\n",
      "\tCreationClassName = \"Win32_VideoController\";\n",
      "\tCurrentBitsPerPixel = 32;\n",
      "\tCurrentHorizontalResolution = 1920;\n",
      "\tCurrentNumberOfColors = \"4294967296\";\n",
      "\tCurrentNumberOfColumns = 0;\n",
      "\tCurrentNumberOfRows = 0;\n",
      "\tCurrentRefreshRate = 60;\n",
      "\tCurrentScanMode = 4;\n",
      "\tCurrentVerticalResolution = 1080;\n",
      "\tDescription = \"Intel(R) Iris(R) Xe Graphics\";\n",
      "\tDeviceID = \"VideoController1\";\n",
      "\tDitherType = 0;\n",
      "\tDriverDate = \"20240118000000.000000-000\";\n",
      "\tDriverVersion = \"31.0.101.5186\";\n",
      "\tInfFilename = \"oem416.inf\";\n",
      "\tInfSection = \"iADLPD_w10_DS\";\n",
      "\tInstalledDisplayDrivers = \"<>,C:\\\\windows\\\\System32\\\\DriverStore\\\\FileRepository\\\\iigd_dch.inf_amd64_46a183a099a0cf25\\\\igd10iumd64.dll,C:\\\\windows\\\\System32\\\\DriverStore\\\\FileRepository\\\\iigd_dch.inf_amd64_46a183a099a0cf25\\\\igd10iumd64.dll,C:\\\\windows\\\\System32\\\\DriverStore\\\\FileRepository\\\\iigd_dch.inf_amd64_46a183a099a0cf25\\\\igd12umd64.dll\";\n",
      "\tMaxRefreshRate = 60;\n",
      "\tMinRefreshRate = 40;\n",
      "\tMonochrome = FALSE;\n",
      "\tName = \"Intel(R) Iris(R) Xe Graphics\";\n",
      "\tPNPDeviceID = \"PCI\\\\VEN_8086&DEV_46A8&SUBSYS_8A20103C&REV_0C\\\\3&11583659&2&10\";\n",
      "\tStatus = \"OK\";\n",
      "\tSystemCreationClassName = \"Win32_ComputerSystem\";\n",
      "\tSystemName = \"LAPTOP-2FKFHUU1\";\n",
      "\tVideoArchitecture = 5;\n",
      "\tVideoMemoryType = 2;\n",
      "\tVideoModeDescription = \"1920 x 1080 x 4294967296 colors\";\n",
      "\tVideoProcessor = \"Intel(R) Iris(R) Xe Graphics Family\";\n",
      "};\n",
      "\n"
     ]
    }
   ],
   "source": [
    "print(gpu_info)"
   ]
  },
  {
   "cell_type": "code",
   "execution_count": 28,
   "metadata": {},
   "outputs": [],
   "source": [
    "gpu_name = pc.Win32_VideoController()[0].name"
   ]
  },
  {
   "cell_type": "code",
   "execution_count": 29,
   "metadata": {},
   "outputs": [
    {
     "data": {
      "text/plain": [
       "'Intel(R) Iris(R) Xe Graphics'"
      ]
     },
     "execution_count": 29,
     "metadata": {},
     "output_type": "execute_result"
    }
   ],
   "source": [
    "gpu_name"
   ]
  }
 ],
 "metadata": {
  "kernelspec": {
   "display_name": "Python 3",
   "language": "python",
   "name": "python3"
  },
  "language_info": {
   "codemirror_mode": {
    "name": "ipython",
    "version": 3
   },
   "file_extension": ".py",
   "mimetype": "text/x-python",
   "name": "python",
   "nbconvert_exporter": "python",
   "pygments_lexer": "ipython3",
   "version": "3.11.3"
  }
 },
 "nbformat": 4,
 "nbformat_minor": 2
}
